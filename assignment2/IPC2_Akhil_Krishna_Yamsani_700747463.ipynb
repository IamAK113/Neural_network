{
 "cells": [
  {
   "cell_type": "code",
   "execution_count": 52,
   "id": "aa0d3eb9",
   "metadata": {},
   "outputs": [],
   "source": [
    "def Full_name(first_name=\"first name\",last_name='last name'):\n",
    "    return first_name+' '+last_name"
   ]
  },
  {
   "cell_type": "code",
   "execution_count": 53,
   "id": "bd639e63",
   "metadata": {},
   "outputs": [
    {
     "name": "stdout",
     "output_type": "stream",
     "text": [
      "Eneter your first name:/nAKhil\n",
      "Enter your last name:/nYamsani\n",
      "AKhil Yamsani\n"
     ]
    }
   ],
   "source": [
    "first_name=input(\"Eneter your first name:/n\")\n",
    "last_name=input(\"Enter your last name:/n\")\n",
    "full_name=Full_name(first_name,last_name)\n",
    "print(full_name)"
   ]
  },
  {
   "cell_type": "code",
   "execution_count": 51,
   "id": "f02eadf1",
   "metadata": {},
   "outputs": [
    {
     "name": "stdout",
     "output_type": "stream",
     "text": [
      "Go vnn\n"
     ]
    }
   ],
   "source": [
    "def string_alternative(string):\n",
    "    o=''\n",
    "    for i in range(0,len(string)):\n",
    "        if(i%2==0):\n",
    "            o=o+string[i]\n",
    "    return o\n",
    "if __name__=='__main__':\n",
    "    print(string_alternative(\"Good evening\"))"
   ]
  },
  {
   "cell_type": "code",
   "execution_count": 57,
   "id": "92146fd1",
   "metadata": {
    "scrolled": true
   },
   "outputs": [
    {
     "name": "stdout",
     "output_type": "stream",
     "text": [
      "Python:1\n",
      "Course:2\n",
      "Deep:1\n",
      "Learning:1\n",
      "\n"
     ]
    }
   ],
   "source": [
    "with open('input_file.txt','r') as ipf:\n",
    "    line=ipf.read()\n",
    "    word=line.split()\n",
    "    check=[]\n",
    "    with open('output_file.txt','w') as opf:\n",
    "        for i in word:\n",
    "            if i not in check:\n",
    "                check.append(i)\n",
    "                opf.write(i+':'+str(word.count(i))+'\\n')      \n",
    "opf=open('output_file.txt','r')\n",
    "print(opf.read())\n"
   ]
  },
  {
   "cell_type": "code",
   "execution_count": 47,
   "id": "35970349",
   "metadata": {},
   "outputs": [
    {
     "name": "stdout",
     "output_type": "stream",
     "text": [
      "47\n",
      "24\n",
      "68.03\n",
      "70.03\n",
      "0\n"
     ]
    }
   ],
   "source": [
    "heights=[]\n",
    "while True:\n",
    "    x=float(input())\n",
    "    if(x<=0):\n",
    "        break\n",
    "    heights.append(x)#this is in inches"
   ]
  },
  {
   "cell_type": "code",
   "execution_count": 48,
   "id": "f1dc4867",
   "metadata": {},
   "outputs": [
    {
     "name": "stdout",
     "output_type": "stream",
     "text": [
      "[119.38, 60.96, 172.7962, 177.8762]\n"
     ]
    }
   ],
   "source": [
    "output=[x*2.54 for x in heights]\n",
    "print(output)#this is in cm"
   ]
  },
  {
   "cell_type": "code",
   "execution_count": null,
   "id": "c958c368",
   "metadata": {},
   "outputs": [],
   "source": []
  }
 ],
 "metadata": {
  "kernelspec": {
   "display_name": "Python 3 (ipykernel)",
   "language": "python",
   "name": "python3"
  },
  "language_info": {
   "codemirror_mode": {
    "name": "ipython",
    "version": 3
   },
   "file_extension": ".py",
   "mimetype": "text/x-python",
   "name": "python",
   "nbconvert_exporter": "python",
   "pygments_lexer": "ipython3",
   "version": "3.9.7"
  }
 },
 "nbformat": 4,
 "nbformat_minor": 5
}
