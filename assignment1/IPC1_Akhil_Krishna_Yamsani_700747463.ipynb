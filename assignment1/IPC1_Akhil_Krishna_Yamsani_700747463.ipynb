{
 "cells": [
  {
   "cell_type": "code",
   "execution_count": 65,
   "id": "fa6dbdb6",
   "metadata": {},
   "outputs": [
    {
     "name": "stdout",
     "output_type": "stream",
     "text": [
      "python\n"
     ]
    }
   ],
   "source": [
    "x=input()"
   ]
  },
  {
   "cell_type": "code",
   "execution_count": 66,
   "id": "426ac079",
   "metadata": {},
   "outputs": [
    {
     "data": {
      "text/plain": [
       "'thon'"
      ]
     },
     "execution_count": 66,
     "metadata": {},
     "output_type": "execute_result"
    }
   ],
   "source": [
    "x=x.replace('py','')\n",
    "x"
   ]
  },
  {
   "cell_type": "code",
   "execution_count": 67,
   "id": "cc107aa5",
   "metadata": {},
   "outputs": [
    {
     "data": {
      "text/plain": [
       "'noht'"
      ]
     },
     "execution_count": 67,
     "metadata": {},
     "output_type": "execute_result"
    }
   ],
   "source": [
    "r=''\n",
    "for i in x:\n",
    "    r=i+r\n",
    "r  "
   ]
  },
  {
   "cell_type": "code",
   "execution_count": 68,
   "id": "84d82d5c",
   "metadata": {},
   "outputs": [
    {
     "name": "stdout",
     "output_type": "stream",
     "text": [
      "1\n",
      "2\n",
      "3 -1 2 0\n"
     ]
    }
   ],
   "source": [
    "a=int(input())\n",
    "b=int(input())\n",
    "print(a+b,a-b,a*b,a//b)"
   ]
  },
  {
   "cell_type": "code",
   "execution_count": 70,
   "id": "7ae14ebd",
   "metadata": {},
   "outputs": [
    {
     "name": "stdout",
     "output_type": "stream",
     "text": [
      "I love python\n"
     ]
    },
    {
     "data": {
      "text/plain": [
       "'I love pythons'"
      ]
     },
     "execution_count": 70,
     "metadata": {},
     "output_type": "execute_result"
    }
   ],
   "source": [
    "st=input()\n",
    "st.replace('python','pythons')"
   ]
  },
  {
   "cell_type": "code",
   "execution_count": 71,
   "id": "1976ff23",
   "metadata": {},
   "outputs": [
    {
     "name": "stdout",
     "output_type": "stream",
     "text": [
      "Enter your score65\n",
      "D\n"
     ]
    }
   ],
   "source": [
    "score=int(input('Enter your score'))\n",
    "if(score>100):\n",
    "    print('Invalid input')\n",
    "elif(score >=90):\n",
    "    print('A')\n",
    "elif(score>=80):\n",
    "    print('B')\n",
    "elif(score>=70):\n",
    "    print('C')\n",
    "elif(score>=60):\n",
    "    print('D')\n",
    "elif(score<60):\n",
    "    print('F')"
   ]
  },
  {
   "cell_type": "code",
   "execution_count": null,
   "id": "9c140268",
   "metadata": {},
   "outputs": [],
   "source": []
  }
 ],
 "metadata": {
  "kernelspec": {
   "display_name": "Python 3 (ipykernel)",
   "language": "python",
   "name": "python3"
  },
  "language_info": {
   "codemirror_mode": {
    "name": "ipython",
    "version": 3
   },
   "file_extension": ".py",
   "mimetype": "text/x-python",
   "name": "python",
   "nbconvert_exporter": "python",
   "pygments_lexer": "ipython3",
   "version": "3.9.7"
  }
 },
 "nbformat": 4,
 "nbformat_minor": 5
}
